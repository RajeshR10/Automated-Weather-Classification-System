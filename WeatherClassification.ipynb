{
  "nbformat": 4,
  "nbformat_minor": 0,
  "metadata": {
    "colab": {
      "provenance": [],
      "gpuType": "T4"
    },
    "kernelspec": {
      "name": "python3",
      "display_name": "Python 3"
    },
    "language_info": {
      "name": "python"
    },
    "accelerator": "GPU",
    "gpuClass": "standard"
  },
  "cells": [
    {
      "cell_type": "markdown",
      "source": [
        "# **Weather Classification Using Transfer Learning**"
      ],
      "metadata": {
        "id": "bfDkYwj3oORi"
      }
    },
    {
      "cell_type": "markdown",
      "source": [
        "### Extracting The Dataset"
      ],
      "metadata": {
        "id": "oI55Jl3WpDqY"
      }
    },
    {
      "cell_type": "code",
      "source": [
        "from google.colab import drive\n",
        "drive.mount('/content/drive')"
      ],
      "metadata": {
        "colab": {
          "base_uri": "https://localhost:8080/"
        },
        "id": "JbHP3XkloZ8V",
        "outputId": "d67257a1-0a42-46b1-f227-8945235bf234"
      },
      "execution_count": null,
      "outputs": [
        {
          "output_type": "stream",
          "name": "stdout",
          "text": [
            "Mounted at /content/drive\n"
          ]
        }
      ]
    },
    {
      "cell_type": "code",
      "source": [
        "!ls '/content/drive/MyDrive'"
      ],
      "metadata": {
        "colab": {
          "base_uri": "https://localhost:8080/"
        },
        "id": "q-vx1GIi9Cfl",
        "outputId": "49710077-a463-4515-bc1b-b88177c0f72a"
      },
      "execution_count": null,
      "outputs": [
        {
          "output_type": "stream",
          "name": "stdout",
          "text": [
            "'Colab Notebooks'\t     'Play Books Notes'\n",
            " CollegeMagazine_2023.docx   'Rajesh Covishield-II certificate.pdf'\n",
            " Education\t\t     'Tentative Course List (Jan - April 2023).pdf'\n",
            " multiclass-weather-dataset  'Torrents '\n",
            " NM3.ipynb\n"
          ]
        }
      ]
    },
    {
      "cell_type": "markdown",
      "source": [
        "### Unzipping the Dataset"
      ],
      "metadata": {
        "id": "4mFPm0iGo0vH"
      }
    },
    {
      "cell_type": "code",
      "source": [
        "#!unzip '/content/multiclass-weather-dataset.zip'"
      ],
      "metadata": {
        "id": "3gbhPjIvpgLX"
      },
      "execution_count": null,
      "outputs": []
    },
    {
      "cell_type": "markdown",
      "source": [
        "### Importing the Libraries"
      ],
      "metadata": {
        "id": "HeLzy7Hiq_cw"
      }
    },
    {
      "cell_type": "code",
      "source": [
        "from tensorflow.keras.applications.vgg19 import VGG19, preprocess_input\n",
        "from tensorflow.keras.layers import Flatten, Dense\n",
        "from tensorflow.keras.models import Model\n",
        "from tensorflow.keras.preprocessing.image import ImageDataGenerator\n",
        "from PIL import ImageFile\n",
        "from tensorflow.keras.models import load_model\n",
        "from tensorflow.keras.preprocessing import image\n",
        "import numpy as np"
      ],
      "metadata": {
        "id": "bec6ywbCrG_o"
      },
      "execution_count": null,
      "outputs": []
    },
    {
      "cell_type": "markdown",
      "source": [
        "### Configure Image Generator Class"
      ],
      "metadata": {
        "id": "zWcKVAg_wbzr"
      }
    },
    {
      "cell_type": "code",
      "source": [
        "from tensorflow.keras.preprocessing.image import ImageDataGenerator\n",
        "train_datagen = ImageDataGenerator(rescale = 1./255, shear_range = 0.2, zoom_range = [.99, 1.01], brightness_range = [0.8, 1.2], data_format = \"channels_last\", fill_mode = \"constant\", horizontal_flip = True)\n",
        "test_datagen = ImageDataGenerator(rescale = 1./255)"
      ],
      "metadata": {
        "id": "5p8Pr6oowjYP"
      },
      "execution_count": null,
      "outputs": []
    },
    {
      "cell_type": "markdown",
      "source": [
        "### Apply ImageDataGenerator functionality to Train set and Test set"
      ],
      "metadata": {
        "id": "QQFW2xYMyXvP"
      }
    },
    {
      "cell_type": "code",
      "source": [
        "import os\n",
        "import shutil\n",
        "import random\n",
        "from sklearn.model_selection import train_test_split"
      ],
      "metadata": {
        "id": "RIYarsHxEv4R"
      },
      "execution_count": null,
      "outputs": []
    },
    {
      "cell_type": "code",
      "execution_count": null,
      "metadata": {
        "id": "-gBEbZ5rJgpv",
        "colab": {
          "base_uri": "https://localhost:8080/"
        },
        "outputId": "1602e8a0-cd2e-480a-df21-5208afd74481"
      },
      "outputs": [
        {
          "output_type": "stream",
          "name": "stdout",
          "text": [
            "mkdir: cannot create directory ‘/content/drive/MyDrive/multiclass-weather-dataset/train’: File exists\n",
            "mkdir: cannot create directory ‘/content/drive/MyDrive/multiclass-weather-dataset/test’: File exists\n"
          ]
        }
      ],
      "source": [
        "!mkdir /content/drive/MyDrive/multiclass-weather-dataset/train\n",
        "!mkdir /content/drive/MyDrive/multiclass-weather-dataset/test\n",
        "\n",
        "# define paths to source and destination directories\n",
        "source_dir = \"/content/drive/MyDrive/multiclass-weather-dataset/dataset\"\n",
        "train_dir = \"/content/drive/MyDrive/multiclass-weather-dataset/train\"\n",
        "test_dir = \"/content/drive/MyDrive/multiclass-weather-dataset/test\"\n",
        "\n",
        "# create train and test directories for each class\n",
        "class_names = os.listdir(source_dir)\n",
        "for class_name in class_names:\n",
        "    os.makedirs(os.path.join(train_dir, class_name), exist_ok=True)\n",
        "    os.makedirs(os.path.join(test_dir, class_name), exist_ok=True)\n",
        "\n",
        "# split data into training and testing sets for each class\n",
        "for class_name in class_names:\n",
        "    class_dir = os.path.join(source_dir, class_name)\n",
        "    image_files = [os.path.join(class_dir, img) for img in os.listdir(class_dir)]\n",
        "    train_files, test_files = train_test_split(image_files, test_size=0.2)\n",
        "\n",
        "    # copy training images for the current class\n",
        "    for filename in train_files:\n",
        "        destination_path = os.path.join(train_dir, class_name, os.path.basename(filename))\n",
        "        shutil.copy(filename, destination_path)\n",
        "\n",
        "    # copy testing images for the current class\n",
        "    for filename in test_files:\n",
        "        destination_path = os.path.join(test_dir, class_name, os.path.basename(filename))\n",
        "        shutil.copy(filename, destination_path)"
      ]
    },
    {
      "cell_type": "code",
      "source": [
        "training_set = train_datagen.flow_from_directory('/content/drive/MyDrive/multiclass-weather-dataset/train', target_size = (180, 180), batch_size = 64, class_mode = 'categorical')"
      ],
      "metadata": {
        "colab": {
          "base_uri": "https://localhost:8080/"
        },
        "id": "B5ZnK2QAyoZ7",
        "outputId": "3c88c012-fc8c-467a-a8e0-ab2c2bfa6aca"
      },
      "execution_count": null,
      "outputs": [
        {
          "output_type": "stream",
          "name": "stdout",
          "text": [
            "Found 1446 images belonging to 5 classes.\n"
          ]
        }
      ]
    },
    {
      "cell_type": "code",
      "source": [
        "test_set = test_datagen.flow_from_directory('/content/drive/MyDrive/multiclass-weather-dataset/test', target_size = (180, 180), batch_size = 64, class_mode = 'categorical')"
      ],
      "metadata": {
        "id": "EHlTuP69_Ndn",
        "colab": {
          "base_uri": "https://localhost:8080/"
        },
        "outputId": "33ab55ed-34b9-4359-8a8a-134b993a12a7"
      },
      "execution_count": null,
      "outputs": [
        {
          "output_type": "stream",
          "name": "stdout",
          "text": [
            "Found 546 images belonging to 5 classes.\n"
          ]
        }
      ]
    },
    {
      "cell_type": "code",
      "source": [
        "IMAGE_SIZE = [224, 224]"
      ],
      "metadata": {
        "id": "DVevIhzuGSeU"
      },
      "execution_count": null,
      "outputs": []
    },
    {
      "cell_type": "markdown",
      "source": [
        "### Pre-Trained CNN Model as a Feature Extractor"
      ],
      "metadata": {
        "id": "TeDgsL-61f1X"
      }
    },
    {
      "cell_type": "code",
      "source": [
        "VGG19 = VGG19(input_shape = IMAGE_SIZE + [3], weights='imagenet', include_top=False)"
      ],
      "metadata": {
        "colab": {
          "base_uri": "https://localhost:8080/"
        },
        "id": "ibiQZf4a1oRO",
        "outputId": "01e1d9f4-9811-4ec3-f2de-0ad4653d9824"
      },
      "execution_count": null,
      "outputs": [
        {
          "output_type": "stream",
          "name": "stdout",
          "text": [
            "Downloading data from https://storage.googleapis.com/tensorflow/keras-applications/vgg19/vgg19_weights_tf_dim_ordering_tf_kernels_notop.h5\n",
            "80134624/80134624 [==============================] - 0s 0us/step\n"
          ]
        }
      ]
    },
    {
      "cell_type": "code",
      "source": [
        "for layer in VGG19.layers:\n",
        "  layer.trainable=False"
      ],
      "metadata": {
        "id": "bi-Ls8iZ2E9-"
      },
      "execution_count": null,
      "outputs": []
    },
    {
      "cell_type": "code",
      "source": [
        "from zmq import XPUB\n",
        "x = Flatten()(VGG19.output)"
      ],
      "metadata": {
        "id": "tggMBm3h2PhA"
      },
      "execution_count": null,
      "outputs": []
    },
    {
      "cell_type": "markdown",
      "source": [
        "### Adding Dense Layer"
      ],
      "metadata": {
        "id": "Vs03eMYe2Yv-"
      }
    },
    {
      "cell_type": "code",
      "source": [
        "prediction = Dense(5, activation='softmax')(x)"
      ],
      "metadata": {
        "id": "CCmyVXYv2oIg"
      },
      "execution_count": null,
      "outputs": []
    },
    {
      "cell_type": "code",
      "source": [
        "model = Model(inputs=VGG19.input, outputs=prediction)"
      ],
      "metadata": {
        "id": "VFazmx6o27yc"
      },
      "execution_count": null,
      "outputs": []
    },
    {
      "cell_type": "markdown",
      "source": [
        "### Configure the Learning process"
      ],
      "metadata": {
        "id": "zCRhpU_M3cDR"
      }
    },
    {
      "cell_type": "code",
      "source": [
        "model.compile(loss='categorical_crossentropy', optimizer='adam', metrics=['accuracy'])"
      ],
      "metadata": {
        "id": "uyP7NFB73hhC"
      },
      "execution_count": null,
      "outputs": []
    },
    {
      "cell_type": "markdown",
      "source": [
        "### Train the Model"
      ],
      "metadata": {
        "id": "tzAokRnx4maz"
      }
    },
    {
      "cell_type": "code",
      "source": [
        "r = model.fit(training_set, validation_data=test_set, epochs=50, steps_per_epoch=len(training_set), validation_steps=len(test_set))"
      ],
      "metadata": {
        "id": "cKzz4Nwg4p8E",
        "colab": {
          "base_uri": "https://localhost:8080/"
        },
        "outputId": "55e3b80f-2a3c-4584-cf21-87808d587fbb"
      },
      "execution_count": null,
      "outputs": [
        {
          "output_type": "stream",
          "name": "stdout",
          "text": [
            "Epoch 1/50\n",
            "46/46 [==============================] - 54s 887ms/step - loss: 1.0444 - accuracy: 0.6300 - val_loss: 0.5154 - val_accuracy: 0.7875\n",
            "Epoch 2/50\n",
            "46/46 [==============================] - 40s 866ms/step - loss: 0.4289 - accuracy: 0.8513 - val_loss: 0.3149 - val_accuracy: 0.9011\n",
            "Epoch 3/50\n",
            "46/46 [==============================] - 39s 851ms/step - loss: 0.2952 - accuracy: 0.9025 - val_loss: 0.3403 - val_accuracy: 0.8846\n",
            "Epoch 4/50\n",
            "46/46 [==============================] - 39s 856ms/step - loss: 0.2560 - accuracy: 0.9142 - val_loss: 0.2123 - val_accuracy: 0.9304\n",
            "Epoch 5/50\n",
            "46/46 [==============================] - 39s 850ms/step - loss: 0.1859 - accuracy: 0.9474 - val_loss: 0.2370 - val_accuracy: 0.9304\n",
            "Epoch 6/50\n",
            "46/46 [==============================] - 39s 851ms/step - loss: 0.1700 - accuracy: 0.9495 - val_loss: 0.1699 - val_accuracy: 0.9505\n",
            "Epoch 7/50\n",
            "46/46 [==============================] - 43s 934ms/step - loss: 0.1793 - accuracy: 0.9481 - val_loss: 0.1760 - val_accuracy: 0.9524\n",
            "Epoch 8/50\n",
            "46/46 [==============================] - 40s 864ms/step - loss: 0.1572 - accuracy: 0.9523 - val_loss: 0.1572 - val_accuracy: 0.9615\n",
            "Epoch 9/50\n",
            "46/46 [==============================] - 39s 850ms/step - loss: 0.1167 - accuracy: 0.9696 - val_loss: 0.1454 - val_accuracy: 0.9597\n",
            "Epoch 10/50\n",
            "46/46 [==============================] - 43s 929ms/step - loss: 0.1091 - accuracy: 0.9675 - val_loss: 0.1221 - val_accuracy: 0.9762\n",
            "Epoch 11/50\n",
            "46/46 [==============================] - 39s 854ms/step - loss: 0.0840 - accuracy: 0.9758 - val_loss: 0.1086 - val_accuracy: 0.9799\n",
            "Epoch 12/50\n",
            "46/46 [==============================] - 43s 933ms/step - loss: 0.0837 - accuracy: 0.9820 - val_loss: 0.1409 - val_accuracy: 0.9560\n",
            "Epoch 13/50\n",
            "46/46 [==============================] - 39s 846ms/step - loss: 0.0763 - accuracy: 0.9813 - val_loss: 0.1033 - val_accuracy: 0.9762\n",
            "Epoch 14/50\n",
            "46/46 [==============================] - 38s 831ms/step - loss: 0.0676 - accuracy: 0.9862 - val_loss: 0.1010 - val_accuracy: 0.9780\n",
            "Epoch 15/50\n",
            "46/46 [==============================] - 43s 931ms/step - loss: 0.0656 - accuracy: 0.9862 - val_loss: 0.1055 - val_accuracy: 0.9725\n",
            "Epoch 16/50\n",
            "46/46 [==============================] - 39s 857ms/step - loss: 0.0611 - accuracy: 0.9876 - val_loss: 0.0901 - val_accuracy: 0.9817\n",
            "Epoch 17/50\n",
            "46/46 [==============================] - 43s 933ms/step - loss: 0.0515 - accuracy: 0.9910 - val_loss: 0.1007 - val_accuracy: 0.9744\n",
            "Epoch 18/50\n",
            "46/46 [==============================] - 39s 851ms/step - loss: 0.0462 - accuracy: 0.9931 - val_loss: 0.0775 - val_accuracy: 0.9890\n",
            "Epoch 19/50\n",
            "46/46 [==============================] - 43s 937ms/step - loss: 0.0564 - accuracy: 0.9876 - val_loss: 0.0858 - val_accuracy: 0.9853\n",
            "Epoch 20/50\n",
            "46/46 [==============================] - 39s 858ms/step - loss: 0.0479 - accuracy: 0.9903 - val_loss: 0.0918 - val_accuracy: 0.9853\n",
            "Epoch 21/50\n",
            "46/46 [==============================] - 40s 863ms/step - loss: 0.0551 - accuracy: 0.9848 - val_loss: 0.0923 - val_accuracy: 0.9799\n",
            "Epoch 22/50\n",
            "46/46 [==============================] - 39s 850ms/step - loss: 0.0499 - accuracy: 0.9910 - val_loss: 0.0941 - val_accuracy: 0.9762\n",
            "Epoch 23/50\n",
            "46/46 [==============================] - 39s 838ms/step - loss: 0.0343 - accuracy: 0.9938 - val_loss: 0.0935 - val_accuracy: 0.9872\n",
            "Epoch 24/50\n",
            "46/46 [==============================] - 39s 870ms/step - loss: 0.0361 - accuracy: 0.9931 - val_loss: 0.0805 - val_accuracy: 0.9853\n",
            "Epoch 25/50\n",
            "46/46 [==============================] - 39s 855ms/step - loss: 0.0368 - accuracy: 0.9903 - val_loss: 0.0741 - val_accuracy: 0.9872\n",
            "Epoch 26/50\n",
            "46/46 [==============================] - 39s 855ms/step - loss: 0.0330 - accuracy: 0.9917 - val_loss: 0.0793 - val_accuracy: 0.9872\n",
            "Epoch 27/50\n",
            "46/46 [==============================] - 40s 866ms/step - loss: 0.0369 - accuracy: 0.9924 - val_loss: 0.0857 - val_accuracy: 0.9890\n",
            "Epoch 28/50\n",
            "46/46 [==============================] - 39s 856ms/step - loss: 0.0362 - accuracy: 0.9910 - val_loss: 0.0745 - val_accuracy: 0.9872\n",
            "Epoch 29/50\n",
            "46/46 [==============================] - 43s 938ms/step - loss: 0.0283 - accuracy: 0.9959 - val_loss: 0.0870 - val_accuracy: 0.9799\n",
            "Epoch 30/50\n",
            "46/46 [==============================] - 39s 849ms/step - loss: 0.0266 - accuracy: 0.9952 - val_loss: 0.0763 - val_accuracy: 0.9890\n",
            "Epoch 31/50\n",
            "46/46 [==============================] - 43s 927ms/step - loss: 0.0218 - accuracy: 0.9972 - val_loss: 0.0717 - val_accuracy: 0.9872\n",
            "Epoch 32/50\n",
            "46/46 [==============================] - 42s 940ms/step - loss: 0.0232 - accuracy: 0.9979 - val_loss: 0.0628 - val_accuracy: 0.9890\n",
            "Epoch 33/50\n",
            "46/46 [==============================] - 39s 855ms/step - loss: 0.0188 - accuracy: 0.9979 - val_loss: 0.0634 - val_accuracy: 0.9872\n",
            "Epoch 34/50\n",
            "46/46 [==============================] - 39s 842ms/step - loss: 0.0173 - accuracy: 0.9986 - val_loss: 0.0653 - val_accuracy: 0.9872\n",
            "Epoch 35/50\n",
            "46/46 [==============================] - 43s 933ms/step - loss: 0.0194 - accuracy: 0.9979 - val_loss: 0.0665 - val_accuracy: 0.9890\n",
            "Epoch 36/50\n",
            "46/46 [==============================] - 43s 930ms/step - loss: 0.0303 - accuracy: 0.9931 - val_loss: 0.0620 - val_accuracy: 0.9872\n",
            "Epoch 37/50\n",
            "46/46 [==============================] - 39s 837ms/step - loss: 0.0245 - accuracy: 0.9965 - val_loss: 0.0845 - val_accuracy: 0.9872\n",
            "Epoch 38/50\n",
            "46/46 [==============================] - 39s 842ms/step - loss: 0.0302 - accuracy: 0.9945 - val_loss: 0.0690 - val_accuracy: 0.9890\n",
            "Epoch 39/50\n",
            "46/46 [==============================] - 43s 928ms/step - loss: 0.0176 - accuracy: 0.9959 - val_loss: 0.0641 - val_accuracy: 0.9872\n",
            "Epoch 40/50\n",
            "46/46 [==============================] - 39s 854ms/step - loss: 0.0162 - accuracy: 0.9979 - val_loss: 0.0663 - val_accuracy: 0.9890\n",
            "Epoch 41/50\n",
            "46/46 [==============================] - 43s 935ms/step - loss: 0.0132 - accuracy: 0.9993 - val_loss: 0.0607 - val_accuracy: 0.9872\n",
            "Epoch 42/50\n",
            "46/46 [==============================] - 39s 848ms/step - loss: 0.0182 - accuracy: 0.9986 - val_loss: 0.0840 - val_accuracy: 0.9799\n",
            "Epoch 43/50\n",
            "46/46 [==============================] - 39s 856ms/step - loss: 0.0185 - accuracy: 0.9952 - val_loss: 0.0753 - val_accuracy: 0.9872\n",
            "Epoch 44/50\n",
            "46/46 [==============================] - 43s 937ms/step - loss: 0.0156 - accuracy: 0.9979 - val_loss: 0.0646 - val_accuracy: 0.9872\n",
            "Epoch 45/50\n",
            "46/46 [==============================] - 39s 842ms/step - loss: 0.0189 - accuracy: 0.9972 - val_loss: 0.0649 - val_accuracy: 0.9872\n",
            "Epoch 46/50\n",
            "46/46 [==============================] - 39s 857ms/step - loss: 0.0182 - accuracy: 0.9972 - val_loss: 0.0589 - val_accuracy: 0.9890\n",
            "Epoch 47/50\n",
            "46/46 [==============================] - 43s 930ms/step - loss: 0.0169 - accuracy: 0.9979 - val_loss: 0.0571 - val_accuracy: 0.9872\n",
            "Epoch 48/50\n",
            "46/46 [==============================] - 39s 845ms/step - loss: 0.0118 - accuracy: 0.9993 - val_loss: 0.0581 - val_accuracy: 0.9908\n",
            "Epoch 49/50\n",
            "46/46 [==============================] - 39s 844ms/step - loss: 0.0106 - accuracy: 0.9993 - val_loss: 0.0639 - val_accuracy: 0.9872\n",
            "Epoch 50/50\n",
            "46/46 [==============================] - 43s 934ms/step - loss: 0.0157 - accuracy: 0.9979 - val_loss: 0.0714 - val_accuracy: 0.9872\n"
          ]
        }
      ]
    },
    {
      "cell_type": "markdown",
      "source": [
        "### Checking Model Accuracy"
      ],
      "metadata": {
        "id": "b61d7_E85JS_"
      }
    },
    {
      "cell_type": "code",
      "source": [
        "loss, accuracy = model.evaluate(test_set, steps=11, verbose=2, use_multiprocessing=True, workers=2)\n",
        "print(f'Model Performance on Test Images: \\nAccuracy = {accuracy} \\nLoss = {loss}')"
      ],
      "metadata": {
        "id": "UTXTXQHY5MRP",
        "colab": {
          "base_uri": "https://localhost:8080/"
        },
        "outputId": "f830ad24-cdf9-49f6-a79b-6a58717a3999"
      },
      "execution_count": null,
      "outputs": [
        {
          "output_type": "stream",
          "name": "stdout",
          "text": [
            "11/11 - 4s - loss: 0.0665 - accuracy: 0.9886 - 4s/epoch - 358ms/step\n",
            "Model Performance on Test Images: \n",
            "Accuracy = 0.9886363744735718 \n",
            "Loss = 0.06654641032218933\n"
          ]
        }
      ]
    },
    {
      "cell_type": "markdown",
      "source": [
        "### Save the Model"
      ],
      "metadata": {
        "id": "lrJnfHfi56XQ"
      }
    },
    {
      "cell_type": "code",
      "source": [
        "model.save('wcv.h5')"
      ],
      "metadata": {
        "id": "HoJJQORe59X2"
      },
      "execution_count": null,
      "outputs": []
    },
    {
      "cell_type": "markdown",
      "source": [
        "### Test the Model"
      ],
      "metadata": {
        "id": "2tubFr8d6B5I"
      }
    },
    {
      "cell_type": "code",
      "source": [
        "from tensorflow.keras.models import load_model\n",
        "from tensorflow.keras.preprocessing import image\n",
        "import numpy as np\n",
        "model = load_model(\"/content/wcv.h5\")"
      ],
      "metadata": {
        "id": "qHRmo3N-6EfB"
      },
      "execution_count": null,
      "outputs": []
    },
    {
      "cell_type": "markdown",
      "source": [
        "Taking an image as input and checking the results"
      ],
      "metadata": {
        "id": "jpePUOt96niI"
      }
    },
    {
      "cell_type": "code",
      "source": [
        "img = image.load_img(r\"/content/drive/MyDrive/multiclass-weather-dataset/test/rainy/rain116.jpg\", target_size=(180,180))\n",
        "x = image.img_to_array(img)\n",
        "x = np.expand_dims(x, axis = 0)\n",
        "preds = model.predict(x)\n",
        "pred = np.argmax(preds, axis=1)\n",
        "index = ['cloudy','foggy','rainy','shine','sunrise']\n",
        "result = str(index[pred[0]])\n",
        "result"
      ],
      "metadata": {
        "id": "mWeF8IZF6uf9",
        "colab": {
          "base_uri": "https://localhost:8080/",
          "height": 716
        },
        "outputId": "c99c8897-77bf-4c1d-ef86-a95fc286c033"
      },
      "execution_count": null,
      "outputs": [
        {
          "output_type": "error",
          "ename": "ValueError",
          "evalue": "ignored",
          "traceback": [
            "\u001b[0;31m---------------------------------------------------------------------------\u001b[0m",
            "\u001b[0;31mValueError\u001b[0m                                Traceback (most recent call last)",
            "\u001b[0;32m<ipython-input-32-a4d66face80b>\u001b[0m in \u001b[0;36m<cell line: 4>\u001b[0;34m()\u001b[0m\n\u001b[1;32m      2\u001b[0m \u001b[0mx\u001b[0m \u001b[0;34m=\u001b[0m \u001b[0mimage\u001b[0m\u001b[0;34m.\u001b[0m\u001b[0mimg_to_array\u001b[0m\u001b[0;34m(\u001b[0m\u001b[0mimg\u001b[0m\u001b[0;34m)\u001b[0m\u001b[0;34m\u001b[0m\u001b[0;34m\u001b[0m\u001b[0m\n\u001b[1;32m      3\u001b[0m \u001b[0mx\u001b[0m \u001b[0;34m=\u001b[0m \u001b[0mnp\u001b[0m\u001b[0;34m.\u001b[0m\u001b[0mexpand_dims\u001b[0m\u001b[0;34m(\u001b[0m\u001b[0mx\u001b[0m\u001b[0;34m,\u001b[0m \u001b[0maxis\u001b[0m \u001b[0;34m=\u001b[0m \u001b[0;36m0\u001b[0m\u001b[0;34m)\u001b[0m\u001b[0;34m\u001b[0m\u001b[0;34m\u001b[0m\u001b[0m\n\u001b[0;32m----> 4\u001b[0;31m \u001b[0mpreds\u001b[0m \u001b[0;34m=\u001b[0m \u001b[0mmodel\u001b[0m\u001b[0;34m.\u001b[0m\u001b[0mpredict\u001b[0m\u001b[0;34m(\u001b[0m\u001b[0mx\u001b[0m\u001b[0;34m)\u001b[0m\u001b[0;34m\u001b[0m\u001b[0;34m\u001b[0m\u001b[0m\n\u001b[0m\u001b[1;32m      5\u001b[0m \u001b[0mpred\u001b[0m \u001b[0;34m=\u001b[0m \u001b[0mnp\u001b[0m\u001b[0;34m.\u001b[0m\u001b[0margmax\u001b[0m\u001b[0;34m(\u001b[0m\u001b[0mpreds\u001b[0m\u001b[0;34m,\u001b[0m \u001b[0maxis\u001b[0m\u001b[0;34m=\u001b[0m\u001b[0;36m1\u001b[0m\u001b[0;34m)\u001b[0m\u001b[0;34m\u001b[0m\u001b[0;34m\u001b[0m\u001b[0m\n\u001b[1;32m      6\u001b[0m \u001b[0mindex\u001b[0m \u001b[0;34m=\u001b[0m \u001b[0;34m[\u001b[0m\u001b[0;34m'cloudy'\u001b[0m\u001b[0;34m,\u001b[0m\u001b[0;34m'foggy'\u001b[0m\u001b[0;34m,\u001b[0m\u001b[0;34m'rainy'\u001b[0m\u001b[0;34m,\u001b[0m\u001b[0;34m'shine'\u001b[0m\u001b[0;34m,\u001b[0m\u001b[0;34m'sunrise'\u001b[0m\u001b[0;34m]\u001b[0m\u001b[0;34m\u001b[0m\u001b[0;34m\u001b[0m\u001b[0m\n",
            "\u001b[0;32m/usr/local/lib/python3.10/dist-packages/keras/utils/traceback_utils.py\u001b[0m in \u001b[0;36merror_handler\u001b[0;34m(*args, **kwargs)\u001b[0m\n\u001b[1;32m     68\u001b[0m             \u001b[0;31m# To get the full stack trace, call:\u001b[0m\u001b[0;34m\u001b[0m\u001b[0;34m\u001b[0m\u001b[0m\n\u001b[1;32m     69\u001b[0m             \u001b[0;31m# `tf.debugging.disable_traceback_filtering()`\u001b[0m\u001b[0;34m\u001b[0m\u001b[0;34m\u001b[0m\u001b[0m\n\u001b[0;32m---> 70\u001b[0;31m             \u001b[0;32mraise\u001b[0m \u001b[0me\u001b[0m\u001b[0;34m.\u001b[0m\u001b[0mwith_traceback\u001b[0m\u001b[0;34m(\u001b[0m\u001b[0mfiltered_tb\u001b[0m\u001b[0;34m)\u001b[0m \u001b[0;32mfrom\u001b[0m \u001b[0;32mNone\u001b[0m\u001b[0;34m\u001b[0m\u001b[0;34m\u001b[0m\u001b[0m\n\u001b[0m\u001b[1;32m     71\u001b[0m         \u001b[0;32mfinally\u001b[0m\u001b[0;34m:\u001b[0m\u001b[0;34m\u001b[0m\u001b[0;34m\u001b[0m\u001b[0m\n\u001b[1;32m     72\u001b[0m             \u001b[0;32mdel\u001b[0m \u001b[0mfiltered_tb\u001b[0m\u001b[0;34m\u001b[0m\u001b[0;34m\u001b[0m\u001b[0m\n",
            "\u001b[0;32m/usr/local/lib/python3.10/dist-packages/keras/engine/training.py\u001b[0m in \u001b[0;36mtf__predict_function\u001b[0;34m(iterator)\u001b[0m\n\u001b[1;32m     13\u001b[0m                 \u001b[0;32mtry\u001b[0m\u001b[0;34m:\u001b[0m\u001b[0;34m\u001b[0m\u001b[0;34m\u001b[0m\u001b[0m\n\u001b[1;32m     14\u001b[0m                     \u001b[0mdo_return\u001b[0m \u001b[0;34m=\u001b[0m \u001b[0;32mTrue\u001b[0m\u001b[0;34m\u001b[0m\u001b[0;34m\u001b[0m\u001b[0m\n\u001b[0;32m---> 15\u001b[0;31m                     \u001b[0mretval_\u001b[0m \u001b[0;34m=\u001b[0m \u001b[0mag__\u001b[0m\u001b[0;34m.\u001b[0m\u001b[0mconverted_call\u001b[0m\u001b[0;34m(\u001b[0m\u001b[0mag__\u001b[0m\u001b[0;34m.\u001b[0m\u001b[0mld\u001b[0m\u001b[0;34m(\u001b[0m\u001b[0mstep_function\u001b[0m\u001b[0;34m)\u001b[0m\u001b[0;34m,\u001b[0m \u001b[0;34m(\u001b[0m\u001b[0mag__\u001b[0m\u001b[0;34m.\u001b[0m\u001b[0mld\u001b[0m\u001b[0;34m(\u001b[0m\u001b[0mself\u001b[0m\u001b[0;34m)\u001b[0m\u001b[0;34m,\u001b[0m \u001b[0mag__\u001b[0m\u001b[0;34m.\u001b[0m\u001b[0mld\u001b[0m\u001b[0;34m(\u001b[0m\u001b[0miterator\u001b[0m\u001b[0;34m)\u001b[0m\u001b[0;34m)\u001b[0m\u001b[0;34m,\u001b[0m \u001b[0;32mNone\u001b[0m\u001b[0;34m,\u001b[0m \u001b[0mfscope\u001b[0m\u001b[0;34m)\u001b[0m\u001b[0;34m\u001b[0m\u001b[0;34m\u001b[0m\u001b[0m\n\u001b[0m\u001b[1;32m     16\u001b[0m                 \u001b[0;32mexcept\u001b[0m\u001b[0;34m:\u001b[0m\u001b[0;34m\u001b[0m\u001b[0;34m\u001b[0m\u001b[0m\n\u001b[1;32m     17\u001b[0m                     \u001b[0mdo_return\u001b[0m \u001b[0;34m=\u001b[0m \u001b[0;32mFalse\u001b[0m\u001b[0;34m\u001b[0m\u001b[0;34m\u001b[0m\u001b[0m\n",
            "\u001b[0;31mValueError\u001b[0m: in user code:\n\n    File \"/usr/local/lib/python3.10/dist-packages/keras/engine/training.py\", line 2169, in predict_function  *\n        return step_function(self, iterator)\n    File \"/usr/local/lib/python3.10/dist-packages/keras/engine/training.py\", line 2155, in step_function  **\n        outputs = model.distribute_strategy.run(run_step, args=(data,))\n    File \"/usr/local/lib/python3.10/dist-packages/keras/engine/training.py\", line 2143, in run_step  **\n        outputs = model.predict_step(data)\n    File \"/usr/local/lib/python3.10/dist-packages/keras/engine/training.py\", line 2111, in predict_step\n        return self(x, training=False)\n    File \"/usr/local/lib/python3.10/dist-packages/keras/utils/traceback_utils.py\", line 70, in error_handler\n        raise e.with_traceback(filtered_tb) from None\n    File \"/usr/local/lib/python3.10/dist-packages/keras/engine/input_spec.py\", line 298, in assert_input_compatibility\n        raise ValueError(\n\n    ValueError: Input 0 of layer \"model\" is incompatible with the layer: expected shape=(None, 224, 224, 3), found shape=(None, 180, 180, 3)\n"
          ]
        }
      ]
    }
  ]
}